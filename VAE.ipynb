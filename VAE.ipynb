{
  "cells": [
    {
      "cell_type": "markdown",
      "metadata": {
        "id": "FyahkMar1mZH"
      },
      "source": [
        "**Variational Auto-Encoders**"
      ]
    },
    {
      "cell_type": "code",
      "execution_count": null,
      "metadata": {
        "id": "lnm4a_fZ1mZI",
        "outputId": "dc04b4f4-cf54-4c30-f14d-b8353e1dab7e"
      },
      "outputs": [
        {
          "name": "stderr",
          "output_type": "stream",
          "text": [
            "2024-08-15 15:22:42.529634: I tensorflow/core/platform/cpu_feature_guard.cc:193] This TensorFlow binary is optimized with oneAPI Deep Neural Network Library (oneDNN) to use the following CPU instructions in performance-critical operations:  AVX2 AVX_VNNI FMA\n",
            "To enable them in other operations, rebuild TensorFlow with the appropriate compiler flags.\n",
            "2024-08-15 15:22:42.620657: I tensorflow/core/util/port.cc:104] oneDNN custom operations are on. You may see slightly different numerical results due to floating-point round-off errors from different computation orders. To turn them off, set the environment variable `TF_ENABLE_ONEDNN_OPTS=0`.\n",
            "2024-08-15 15:22:43.301527: W tensorflow/compiler/xla/stream_executor/platform/default/dso_loader.cc:64] Could not load dynamic library 'libnvinfer.so.7'; dlerror: libnvinfer.so.7: cannot open shared object file: No such file or directory; LD_LIBRARY_PATH: :/home/mario/Documents/Projects/anaconda3/envs/tensorflow/lib/\n",
            "2024-08-15 15:22:43.301594: W tensorflow/compiler/xla/stream_executor/platform/default/dso_loader.cc:64] Could not load dynamic library 'libnvinfer_plugin.so.7'; dlerror: libnvinfer_plugin.so.7: cannot open shared object file: No such file or directory; LD_LIBRARY_PATH: :/home/mario/Documents/Projects/anaconda3/envs/tensorflow/lib/\n",
            "2024-08-15 15:22:43.301603: W tensorflow/compiler/tf2tensorrt/utils/py_utils.cc:38] TF-TRT Warning: Cannot dlopen some TensorRT libraries. If you would like to use Nvidia GPU with TensorRT, please make sure the missing libraries mentioned above are installed properly.\n"
          ]
        }
      ],
      "source": [
        "import tensorflow as tf\n",
        "import numpy as np\n",
        "import matplotlib.pyplot as plt\n",
        "from tensorflow.keras.models import Model\n",
        "from tensorflow.keras.layers import Layer, Reshape, Conv2DTranspose, Add, Conv2D, MaxPool2D, Dense, Flatten, InputLayer, BatchNormalization, Input\n",
        "#from tensorflow.keras.optimizers import Adam\n",
        "from tensorflow.keras.optimizers.legacy import Adam\n",
        "from tensorflow.keras.preprocessing.image import ImageDataGenerator\n",
        "from scipy import *\n",
        "from tqdm import tqdm"
      ]
    },
    {
      "cell_type": "markdown",
      "metadata": {
        "id": "8g6o7Gur1mZM"
      },
      "source": [
        "## Data Preparation"
      ]
    },
    {
      "cell_type": "markdown",
      "metadata": {
        "id": "-TN321Aq1mZN"
      },
      "source": [
        "### Data Prep 1"
      ]
    },
    {
      "cell_type": "code",
      "execution_count": null,
      "metadata": {
        "id": "iVn8A4rh1mZN",
        "outputId": "5a9b9df7-f6eb-44b8-ed09-2222ad9fa114"
      },
      "outputs": [
        {
          "data": {
            "text/plain": [
              "(70000, 28, 28, 1)"
            ]
          },
          "execution_count": 31,
          "metadata": {},
          "output_type": "execute_result"
        }
      ],
      "source": [
        "(x_train, _), (x_test, _) = tf.keras.datasets.mnist.load_data()\n",
        "mnist_digits = np.concatenate([x_train, x_test], axis=0)\n",
        "mnist_digits = np.expand_dims(mnist_digits, -1).astype(\"float32\") / 255\n",
        "mnist_digits.shape"
      ]
    },
    {
      "cell_type": "code",
      "execution_count": null,
      "metadata": {
        "id": "KN2EZoaX1mZP",
        "outputId": "a233e551-cab2-49c0-c029-8130b5ca5f21"
      },
      "outputs": [
        {
          "data": {
            "text/plain": [
              "<TensorSliceDataset element_spec=TensorSpec(shape=(28, 28, 1), dtype=tf.float32, name=None)>"
            ]
          },
          "execution_count": 32,
          "metadata": {},
          "output_type": "execute_result"
        }
      ],
      "source": [
        "dataset = tf.data.Dataset.from_tensor_slices(mnist_digits)\n",
        "dataset"
      ]
    },
    {
      "cell_type": "code",
      "execution_count": null,
      "metadata": {
        "id": "U-vy2I351mZQ"
      },
      "outputs": [],
      "source": [
        "train_dataset = (\n",
        "    dataset\n",
        "    .shuffle(buffer_size = 1024, reshuffle_each_iteration = True)\n",
        "    .batch(128)\n",
        "    .prefetch(tf.data.AUTOTUNE)\n",
        ")"
      ]
    },
    {
      "cell_type": "markdown",
      "metadata": {
        "id": "QAzkH88M1mZR"
      },
      "source": [
        "### Data Prep 2"
      ]
    },
    {
      "cell_type": "code",
      "execution_count": null,
      "metadata": {
        "id": "ooRLx5jp1mZS",
        "outputId": "4c438ef2-c456-4815-aaa3-d374e63615b2"
      },
      "outputs": [
        {
          "name": "stdout",
          "output_type": "stream",
          "text": [
            "(70000, 28, 28, 1)\n"
          ]
        }
      ],
      "source": [
        "(x_train, _), (x_test, _) = tf.keras.datasets.mnist.load_data()\n",
        "\n",
        "mnist_digits = np.concatenate([x_train, x_test], axis=0)\n",
        "mnist_digits = np.expand_dims(mnist_digits, -1).astype(\"float32\")\n",
        "\n",
        "print(mnist_digits.shape)\n",
        "\n",
        "# Create an ImageDataGenerator for data augmentation\n",
        "train_gen = ImageDataGenerator(\n",
        "    rescale=1./255,\n",
        ")\n",
        "\n",
        "x_train = train_gen.flow(\n",
        "    mnist_digits,\n",
        "    shuffle=True,\n",
        "    batch_size=128,\n",
        ")"
      ]
    },
    {
      "cell_type": "markdown",
      "metadata": {
        "id": "gWDGumuS1mZU"
      },
      "source": [
        "## Modeling VAES"
      ]
    },
    {
      "cell_type": "code",
      "execution_count": null,
      "metadata": {
        "id": "MMs6VKzu1mZV"
      },
      "outputs": [],
      "source": [
        "LATENT_DIM = 2\n",
        "BATCH_SIZE = 128"
      ]
    },
    {
      "cell_type": "markdown",
      "metadata": {
        "id": "oklmcFjF1mZX"
      },
      "source": [
        "### Sampling"
      ]
    },
    {
      "cell_type": "code",
      "execution_count": null,
      "metadata": {
        "id": "egbwjnw-1mZX"
      },
      "outputs": [],
      "source": [
        "class Sampling(Layer):\n",
        "\n",
        "    def call(self, inputs):\n",
        "        mean, logvar = inputs\n",
        "        return mean + tf.math.exp(0.5*logvar)*tf.random.normal(shape = tf.shape((BATCH_SIZE, LATENT_DIM)))"
      ]
    },
    {
      "cell_type": "markdown",
      "metadata": {
        "id": "lo9JA5C81mZY"
      },
      "source": [
        "## Encoder"
      ]
    },
    {
      "cell_type": "code",
      "execution_count": null,
      "metadata": {
        "id": "gzPSm1df1mZZ",
        "outputId": "6bd1a794-c8c6-4ed0-e2f1-a123380fa06c"
      },
      "outputs": [
        {
          "name": "stdout",
          "output_type": "stream",
          "text": [
            "Model: \"VAE-Encoder\"\n",
            "__________________________________________________________________________________________________\n",
            " Layer (type)                   Output Shape         Param #     Connected to                     \n",
            "==================================================================================================\n",
            " input_1 (InputLayer)           [(None, 28, 28, 1)]  0           []                               \n",
            "                                                                                                  \n",
            " conv2d (Conv2D)                (None, 14, 14, 32)   320         ['input_1[0][0]']                \n",
            "                                                                                                  \n",
            " conv2d_1 (Conv2D)              (None, 7, 7, 64)     18496       ['conv2d[0][0]']                 \n",
            "                                                                                                  \n",
            " flatten (Flatten)              (None, 3136)         0           ['conv2d_1[0][0]']               \n",
            "                                                                                                  \n",
            " dense (Dense)                  (None, 16)           50192       ['flatten[0][0]']                \n",
            "                                                                                                  \n",
            " dense_1 (Dense)                (None, 2)            34          ['dense[0][0]']                  \n",
            "                                                                                                  \n",
            " dense_2 (Dense)                (None, 2)            34          ['dense[0][0]']                  \n",
            "                                                                                                  \n",
            " sampling (Sampling)            (None, 2)            0           ['dense_1[0][0]',                \n",
            "                                                                  'dense_2[0][0]']                \n",
            "                                                                                                  \n",
            "==================================================================================================\n",
            "Total params: 69,076\n",
            "Trainable params: 69,076\n",
            "Non-trainable params: 0\n",
            "__________________________________________________________________________________________________\n"
          ]
        },
        {
          "name": "stderr",
          "output_type": "stream",
          "text": [
            "2024-08-15 15:22:46.291079: I tensorflow/compiler/xla/stream_executor/cuda/cuda_gpu_executor.cc:981] successful NUMA node read from SysFS had negative value (-1), but there must be at least one NUMA node, so returning NUMA node zero\n",
            "2024-08-15 15:22:46.296199: I tensorflow/compiler/xla/stream_executor/cuda/cuda_gpu_executor.cc:981] successful NUMA node read from SysFS had negative value (-1), but there must be at least one NUMA node, so returning NUMA node zero\n",
            "2024-08-15 15:22:46.296370: I tensorflow/compiler/xla/stream_executor/cuda/cuda_gpu_executor.cc:981] successful NUMA node read from SysFS had negative value (-1), but there must be at least one NUMA node, so returning NUMA node zero\n",
            "2024-08-15 15:22:46.296850: I tensorflow/core/platform/cpu_feature_guard.cc:193] This TensorFlow binary is optimized with oneAPI Deep Neural Network Library (oneDNN) to use the following CPU instructions in performance-critical operations:  AVX2 AVX_VNNI FMA\n",
            "To enable them in other operations, rebuild TensorFlow with the appropriate compiler flags.\n",
            "2024-08-15 15:22:46.297897: I tensorflow/compiler/xla/stream_executor/cuda/cuda_gpu_executor.cc:981] successful NUMA node read from SysFS had negative value (-1), but there must be at least one NUMA node, so returning NUMA node zero\n",
            "2024-08-15 15:22:46.298050: I tensorflow/compiler/xla/stream_executor/cuda/cuda_gpu_executor.cc:981] successful NUMA node read from SysFS had negative value (-1), but there must be at least one NUMA node, so returning NUMA node zero\n",
            "2024-08-15 15:22:46.298165: I tensorflow/compiler/xla/stream_executor/cuda/cuda_gpu_executor.cc:981] successful NUMA node read from SysFS had negative value (-1), but there must be at least one NUMA node, so returning NUMA node zero\n",
            "2024-08-15 15:22:46.799798: I tensorflow/compiler/xla/stream_executor/cuda/cuda_gpu_executor.cc:981] successful NUMA node read from SysFS had negative value (-1), but there must be at least one NUMA node, so returning NUMA node zero\n",
            "2024-08-15 15:22:46.799990: I tensorflow/compiler/xla/stream_executor/cuda/cuda_gpu_executor.cc:981] successful NUMA node read from SysFS had negative value (-1), but there must be at least one NUMA node, so returning NUMA node zero\n",
            "2024-08-15 15:22:46.800145: I tensorflow/compiler/xla/stream_executor/cuda/cuda_gpu_executor.cc:981] successful NUMA node read from SysFS had negative value (-1), but there must be at least one NUMA node, so returning NUMA node zero\n",
            "2024-08-15 15:22:46.800254: I tensorflow/core/common_runtime/gpu/gpu_device.cc:1613] Created device /job:localhost/replica:0/task:0/device:GPU:0 with 6127 MB memory:  -> device: 0, name: NVIDIA GeForce RTX 4060 Laptop GPU, pci bus id: 0000:01:00.0, compute capability: 8.9\n"
          ]
        }
      ],
      "source": [
        "def Encoder(latent_dim = LATENT_DIM):\n",
        "\n",
        "    inputs = Input(shape=(28, 28, 1))\n",
        "    x = Conv2D(32, (3, 3), strides = 2, padding=\"same\")(inputs)\n",
        "    x = Conv2D(64, (3, 3), strides  = 2, padding=\"same\")(x)\n",
        "\n",
        "    x = Flatten()(x)\n",
        "    x = Dense(16, activation='relu')(x)\n",
        "\n",
        "    mean = Dense(LATENT_DIM,)(x)\n",
        "    log_var = Dense(LATENT_DIM, )(x)\n",
        "\n",
        "    z = Sampling()([mean, log_var])\n",
        "\n",
        "    model = Model(inputs=inputs, outputs=[z,mean,log_var], name='VAE-Encoder')\n",
        "    return model\n",
        "\n",
        "Encoder_model = Encoder()\n",
        "Encoder_model.summary()"
      ]
    },
    {
      "cell_type": "markdown",
      "metadata": {
        "id": "CswnJFVq1mZZ"
      },
      "source": [
        "#### Testing Variational Encoder"
      ]
    },
    {
      "cell_type": "code",
      "execution_count": null,
      "metadata": {
        "id": "mmWISkZk1mZa",
        "outputId": "1dff8364-a991-4e83-95da-f7d94ed2f82f"
      },
      "outputs": [
        {
          "data": {
            "image/png": "[encoded data removed]",
            "text/plain": [
              "<Figure size 640x480 with 1 Axes>"
            ]
          },
          "metadata": {},
          "output_type": "display_data"
        }
      ],
      "source": [
        "teste = x_train[0][0]\n",
        "plt.imshow(teste)\n",
        "plt.axis('off')\n",
        "plt.show()"
      ]
    },
    {
      "cell_type": "code",
      "execution_count": null,
      "metadata": {
        "id": "nF4PlMYk1mZa",
        "outputId": "183a8288-a6fc-4571-df32-5f46ed91a80c"
      },
      "outputs": [
        {
          "data": {
            "text/plain": [
              "TensorShape([1, 28, 28, 1])"
            ]
          },
          "execution_count": 7,
          "metadata": {},
          "output_type": "execute_result"
        }
      ],
      "source": [
        "teste = tf.expand_dims(teste, axis = 0)\n",
        "teste.shape"
      ]
    },
    {
      "cell_type": "code",
      "execution_count": null,
      "metadata": {
        "id": "uggBMb971mZb",
        "outputId": "cf603e92-4b7b-46d1-fbb5-a9def6748c08"
      },
      "outputs": [
        {
          "name": "stderr",
          "output_type": "stream",
          "text": [
            "2024-08-15 15:22:47.699422: I tensorflow/compiler/xla/stream_executor/cuda/cuda_dnn.cc:428] Loaded cuDNN version 8100\n",
            "2024-08-15 15:22:48.216257: I tensorflow/tsl/platform/default/subprocess.cc:304] Start cannot spawn child process: No such file or directory\n",
            "2024-08-15 15:22:48.216465: I tensorflow/tsl/platform/default/subprocess.cc:304] Start cannot spawn child process: No such file or directory\n",
            "2024-08-15 15:22:48.216482: W tensorflow/compiler/xla/stream_executor/gpu/asm_compiler.cc:85] Couldn't get ptxas version string: INTERNAL: Couldn't invoke ptxas --version\n",
            "2024-08-15 15:22:48.216792: I tensorflow/tsl/platform/default/subprocess.cc:304] Start cannot spawn child process: No such file or directory\n",
            "2024-08-15 15:22:48.216879: W tensorflow/compiler/xla/stream_executor/gpu/redzone_allocator.cc:318] INTERNAL: Failed to launch ptxas\n",
            "Relying on driver to perform ptx compilation. \n",
            "Modify $PATH to customize ptxas location.\n",
            "This message will be only logged once.\n"
          ]
        },
        {
          "name": "stdout",
          "output_type": "stream",
          "text": [
            "1/1 [==============================] - 1s 1s/step\n",
            "Z : [[ 1.98149    -0.06550196]]\n",
            "Mean : [[-0.05572234  0.0628576 ]]\n",
            "Log_Var : [[-0.08412249 -0.02237741]]\n"
          ]
        },
        {
          "name": "stderr",
          "output_type": "stream",
          "text": [
            "2024-08-15 15:22:48.537383: I tensorflow/compiler/xla/stream_executor/cuda/cuda_blas.cc:630] TensorFloat-32 will be used for the matrix multiplication. This will only be logged once.\n"
          ]
        }
      ],
      "source": [
        "encoded_image = Encoder_model.predict(teste)\n",
        "print('Z : ' + str(encoded_image[0]))\n",
        "print('Mean : ' + str(encoded_image[1]))\n",
        "print('Log_Var : ' + str(encoded_image[2]))\n"
      ]
    },
    {
      "cell_type": "markdown",
      "metadata": {
        "id": "WHzSqSNF1mZc"
      },
      "source": [
        "## Decoder"
      ]
    },
    {
      "cell_type": "code",
      "execution_count": null,
      "metadata": {
        "id": "zkJzaoJq1mZc",
        "outputId": "de5013ef-dd48-495c-bd04-bbf928bb9fec"
      },
      "outputs": [
        {
          "name": "stdout",
          "output_type": "stream",
          "text": [
            "Model: \"VAE-Decoder\"\n",
            "_________________________________________________________________\n",
            " Layer (type)                Output Shape              Param #   \n",
            "=================================================================\n",
            " input_2 (InputLayer)        [(None, 2)]               0         \n",
            "                                                                 \n",
            " dense_3 (Dense)             (None, 3136)              9408      \n",
            "                                                                 \n",
            " reshape (Reshape)           (None, 7, 7, 64)          0         \n",
            "                                                                 \n",
            " conv2d_transpose (Conv2DTra  (None, 14, 14, 64)       36928     \n",
            " nspose)                                                         \n",
            "                                                                 \n",
            " conv2d_transpose_1 (Conv2DT  (None, 28, 28, 32)       18464     \n",
            " ranspose)                                                       \n",
            "                                                                 \n",
            " conv2d_transpose_2 (Conv2DT  (None, 28, 28, 1)        289       \n",
            " ranspose)                                                       \n",
            "                                                                 \n",
            "=================================================================\n",
            "Total params: 65,089\n",
            "Trainable params: 65,089\n",
            "Non-trainable params: 0\n",
            "_________________________________________________________________\n"
          ]
        }
      ],
      "source": [
        "def Decoder():\n",
        "\n",
        "    latent_inputs = Input(shape=(LATENT_DIM,))\n",
        "    x = Dense(7*7*64, activation='relu')(latent_inputs)\n",
        "    x = Reshape((7,7,64))(x)\n",
        "\n",
        "    x = Conv2DTranspose(64,(3,3), strides= 2, padding=\"same\")(x)\n",
        "    x = Conv2DTranspose(32,(3,3), strides= 2, padding=\"same\")(x)\n",
        "    x = Conv2DTranspose(1,(3,3), activation='sigmoid', padding='same')(x)\n",
        "\n",
        "    model = Model(inputs=latent_inputs, outputs=x, name='VAE-Decoder')\n",
        "    return model\n",
        "\n",
        "Decoder_model = Decoder()\n",
        "Decoder_model.summary()"
      ]
    },
    {
      "cell_type": "markdown",
      "metadata": {
        "id": "-Cy-J3Cj1mZc"
      },
      "source": [
        "#### Testing Variational Decoder"
      ]
    },
    {
      "cell_type": "code",
      "execution_count": null,
      "metadata": {
        "id": "J0oQeLVa1mZd",
        "outputId": "52c7b514-4ce9-42b9-dcaa-7a5d61ad2136"
      },
      "outputs": [
        {
          "name": "stdout",
          "output_type": "stream",
          "text": [
            "1/1 [==============================] - 0s 257ms/step\n"
          ]
        },
        {
          "data": {
            "image/png": "[encoded data removed]",
            "text/plain": [
              "<Figure size 640x480 with 1 Axes>"
            ]
          },
          "metadata": {},
          "output_type": "display_data"
        }
      ],
      "source": [
        "#Zero Shot\n",
        "\n",
        "Dencoded_image = Decoder_model.predict(encoded_image[0])\n",
        "plt.imshow(Dencoded_image[0])\n",
        "plt.axis('off')\n",
        "plt.show()"
      ]
    },
    {
      "cell_type": "markdown",
      "metadata": {
        "id": "0hWNX4K-1mZd"
      },
      "source": [
        "## VAE Full Model"
      ]
    },
    {
      "cell_type": "code",
      "execution_count": null,
      "metadata": {
        "id": "uYYxRSdZ1mZe",
        "outputId": "859ba9b6-6789-4df0-da29-95c24219e677"
      },
      "outputs": [
        {
          "name": "stdout",
          "output_type": "stream",
          "text": [
            "Model: \"VAE\"\n",
            "_________________________________________________________________\n",
            " Layer (type)                Output Shape              Param #   \n",
            "=================================================================\n",
            " input_3 (InputLayer)        [(None, 28, 28, 1)]       0         \n",
            "                                                                 \n",
            " VAE-Encoder (Functional)    [(None, 2),               69076     \n",
            "                              (None, 2),                         \n",
            "                              (None, 2)]                         \n",
            "                                                                 \n",
            " VAE-Decoder (Functional)    (None, 28, 28, 1)         65089     \n",
            "                                                                 \n",
            "=================================================================\n",
            "Total params: 134,165\n",
            "Trainable params: 134,165\n",
            "Non-trainable params: 0\n",
            "_________________________________________________________________\n"
          ]
        }
      ],
      "source": [
        "def VAE():\n",
        "    vae_inputs = Input(shape=(28, 28, 1))\n",
        "    z, _, _ = Encoder_model(vae_inputs)\n",
        "    outputs = Decoder_model(z)\n",
        "\n",
        "    vae_model = Model(vae_inputs, outputs, name='VAE')\n",
        "    return vae_model\n",
        "\n",
        "VAE_model = VAE()\n",
        "VAE_model.summary()"
      ]
    },
    {
      "cell_type": "markdown",
      "metadata": {
        "id": "SOp5rUdj1mZe"
      },
      "source": [
        "## Training"
      ]
    },
    {
      "cell_type": "code",
      "execution_count": null,
      "metadata": {
        "id": "ytAWZHVE1mZe"
      },
      "outputs": [],
      "source": [
        "def customized_loss(y_true, y_pred, mean, log_var):\n",
        "    # Loss que tenta aproximar os valores de cada pixel do correto\n",
        "    reconstruction_loss = tf.reduce_mean(tf.reduce_sum(tf.keras.losses.binary_crossentropy(y_true, y_pred), axis=(1,2)))\n",
        "\n",
        "    # Loss que tenta aproximar os valores da média e do desvio padrão dos pixels\n",
        "    # Para isso, utiliza o logaritmo natural para evitar problemas com números negativos\n",
        "    regression_loss = tf.reduce_mean(tf.reduce_sum(-0.5*(log_var+1-tf.square(mean)-tf.exp(log_var)),axis = 1))\n",
        "\n",
        "    return reconstruction_loss + regression_loss"
      ]
    },
    {
      "cell_type": "code",
      "execution_count": null,
      "metadata": {
        "id": "vE4u4umj1mZf"
      },
      "outputs": [],
      "source": [
        "def training_block(x_batch):\n",
        "    with tf.GradientTape() as recorder:\n",
        "        z, mean, log_var = Encoder_model(x_batch)\n",
        "        y_pred = Decoder_model(z)\n",
        "        loss = customized_loss(x_batch, y_pred, mean, log_var)\n",
        "\n",
        "    gradients = recorder.gradient(loss, vae_model.trainable_weights)\n",
        "    Adam(learning_rate = 1e-3).apply_gradients(zip(gradients, vae_model.trainable_weights))\n",
        "    return loss"
      ]
    },
    {
      "cell_type": "code",
      "execution_count": null,
      "metadata": {
        "id": "wwUpn3Xc1mZf"
      },
      "outputs": [],
      "source": [
        "def train(data, epochs):\n",
        "    for epoch in tqdm(range(epochs)):\n",
        "        print('Epoch: ',epoch+1)\n",
        "\n",
        "        for step, x_batch in enumerate(data):\n",
        "            loss = training_block(x_batch)\n",
        "        print('Training Loss: ',loss)"
      ]
    },
    {
      "cell_type": "code",
      "execution_count": null,
      "metadata": {
        "id": "DGQEtwXJ1mZf",
        "outputId": "631d97da-76c9-4aa0-a3b9-105241c11c99"
      },
      "outputs": [
        {
          "name": "stderr",
          "output_type": "stream",
          "text": [
            "  0%|          | 0/10 [00:00<?, ?it/s]"
          ]
        },
        {
          "name": "stdout",
          "output_type": "stream",
          "text": [
            "Epoch:  1\n"
          ]
        }
      ],
      "source": [
        "train(train_dataset, 20)"
      ]
    },
    {
      "cell_type": "markdown",
      "source": [
        "## Testing"
      ],
      "metadata": {
        "id": "ArQkkmct17ad"
      }
    },
    {
      "cell_type": "code",
      "source": [
        "scale=1\n",
        "n=16"
      ],
      "metadata": {
        "id": "Zf3dv3sA19UC"
      },
      "execution_count": null,
      "outputs": []
    },
    {
      "cell_type": "code",
      "source": [
        "grid_x = np.linspace(-scale,scale,16)\n",
        "grid_y = np.linspace(-scale,scale,16)"
      ],
      "metadata": {
        "id": "SkW9Sy4i1__H"
      },
      "execution_count": null,
      "outputs": []
    },
    {
      "cell_type": "code",
      "source": [
        "plt.figure(figsize=(12,12))\n",
        "k=0\n",
        "for i in grid_x:\n",
        "  for j in grid_y:\n",
        "    ax=plt.subplot(n,n,k+1)\n",
        "\n",
        "    input=tf.constant([[i,j]])\n",
        "    out=VAE_model.layers[2].predict(input)[0][...,0]\n",
        "    plt.imshow(out,cmap=\"Greys_r\")\n",
        "    plt.axis('off')\n",
        "    k+=1"
      ],
      "metadata": {
        "id": "xf6Hjh302CaK"
      },
      "execution_count": null,
      "outputs": []
    }
  ],
  "metadata": {
    "kernelspec": {
      "display_name": "tensorflow",
      "language": "python",
      "name": "python3"
    },
    "language_info": {
      "codemirror_mode": {
        "name": "ipython",
        "version": 3
      },
      "file_extension": ".py",
      "mimetype": "text/x-python",
      "name": "python",
      "nbconvert_exporter": "python",
      "pygments_lexer": "ipython3",
      "version": "3.9.19"
    },
    "colab": {
      "provenance": []
    }
  },
  "nbformat": 4,
  "nbformat_minor": 0
}